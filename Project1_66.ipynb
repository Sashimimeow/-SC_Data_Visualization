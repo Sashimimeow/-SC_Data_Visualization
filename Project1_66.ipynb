{
  "cells": [
    {
      "cell_type": "markdown",
      "metadata": {
        "id": "view-in-github",
        "colab_type": "text"
      },
      "source": [
        "<a href=\"https://colab.research.google.com/github/Sashimimeow/-SC_Data_Visualization/blob/main/Project1_66.ipynb\" target=\"_parent\"><img src=\"https://colab.research.google.com/assets/colab-badge.svg\" alt=\"Open In Colab\"/></a>"
      ]
    },
    {
      "cell_type": "markdown",
      "id": "e3f0f914",
      "metadata": {
        "id": "e3f0f914"
      },
      "source": [
        "# Text Analytics"
      ]
    },
    {
      "cell_type": "markdown",
      "id": "6f8afa7f",
      "metadata": {
        "id": "6f8afa7f"
      },
      "source": [
        "<img src=\"https://www.datanami.com/wp-content/uploads/2014/06/text-analytics.png\" width=\"300\">"
      ]
    },
    {
      "cell_type": "markdown",
      "id": "7866bdbc",
      "metadata": {
        "id": "7866bdbc"
      },
      "source": [
        "## Due Date: Sunday, October 1, 2023\n",
        "<br>\n",
        "<span style=\"color:red\">NOTE: There are always last minute issues submitting the case studies. DO NOT WAIT UNTIL THE LAST MINUTE!</span>"
      ]
    },
    {
      "cell_type": "markdown",
      "id": "830d61bd",
      "metadata": {
        "id": "830d61bd"
      },
      "source": [
        "## List team members:"
      ]
    },
    {
      "cell_type": "markdown",
      "id": "f280656e",
      "metadata": {
        "id": "f280656e"
      },
      "source": [
        "1. <Name> <ID> <Email>\n",
        "2. <Name> <ID> <Email>\n",
        "3. <Name> <ID> <Email>"
      ]
    },
    {
      "cell_type": "markdown",
      "id": "3306068f",
      "metadata": {
        "id": "3306068f"
      },
      "source": [
        "**NOTE1**: Please don't forget to save the notebook frequently when working in IPython Notebook, otherwise the changes you made can be lost\n",
        "\n",
        "**NOTE2**: Create a slide presentation once finished, convert to pdf format, and turn in by one group member only\n",
        "<br>A list of documents to turn in: 1) Jupyter notebook containing results and 2) A set of slides in pdf format"
      ]
    },
    {
      "cell_type": "raw",
      "id": "7d719e86",
      "metadata": {
        "id": "7d719e86"
      },
      "source": [
        "!pip3 install wordcloud"
      ]
    },
    {
      "cell_type": "code",
      "execution_count": 1,
      "id": "1e236d1b",
      "metadata": {
        "id": "1e236d1b"
      },
      "outputs": [],
      "source": [
        "# Load these libraries\n",
        "import json\n",
        "import pprint\n",
        "import pandas as pd\n",
        "from io import StringIO # using StringIO to prevent ValueError\n",
        "from os import path\n",
        "from PIL import Image\n",
        "from wordcloud import WordCloud, STOPWORDS, ImageColorGenerator\n",
        "import urllib.request\n",
        "\n",
        "import matplotlib.pyplot as plt\n",
        "%matplotlib inline"
      ]
    },
    {
      "cell_type": "markdown",
      "id": "f6b4adb1",
      "metadata": {
        "id": "f6b4adb1"
      },
      "source": [
        "## Problem 1: Working with Twitter Data and JSON file"
      ]
    },
    {
      "cell_type": "markdown",
      "id": "b90b2963",
      "metadata": {
        "id": "b90b2963"
      },
      "source": [
        "We are working with a Twitter dataset in JSON format from `thailand_tweets.txt`.<br>\n",
        "The tweets were scraped using \"Thailand\" keyword on August 31, 2022.<br>\n",
        "We are going to examine the dataset and retrieve information from the JSON file.\n",
        "Most Twitter datasets provide only Tweet ID where we can retrieve tweets from tweet ID as follow.\n",
        "```\n",
        "twitter.com/anyuser/status/<tweet_id>\n",
        "```"
      ]
    },
    {
      "cell_type": "markdown",
      "id": "9c5915cc",
      "metadata": {
        "id": "9c5915cc"
      },
      "source": [
        "#### Read JSON file"
      ]
    },
    {
      "cell_type": "code",
      "execution_count": null,
      "id": "a6b52d1f",
      "metadata": {
        "scrolled": false,
        "id": "a6b52d1f"
      },
      "outputs": [],
      "source": [
        "# read the file\n"
      ]
    },
    {
      "cell_type": "code",
      "execution_count": null,
      "id": "cca51f21",
      "metadata": {
        "id": "cca51f21"
      },
      "outputs": [],
      "source": [
        "# inspect the file\n"
      ]
    },
    {
      "cell_type": "markdown",
      "id": "ec2115fb",
      "metadata": {
        "id": "ec2115fb"
      },
      "source": [
        "#### Pretty print json/dict object"
      ]
    },
    {
      "cell_type": "markdown",
      "id": "91864d4a",
      "metadata": {
        "id": "91864d4a"
      },
      "source": [
        "Possible approaches:\n",
        "* In fact, `pandas` has `pandas.read_json(<file_dir>)` function to read json file into dataframe\n",
        "* As we create a data dict, we can also read our data dict into a pandas dataframe"
      ]
    },
    {
      "cell_type": "code",
      "execution_count": null,
      "id": "fa4a5506",
      "metadata": {
        "id": "fa4a5506"
      },
      "outputs": [],
      "source": []
    },
    {
      "cell_type": "markdown",
      "id": "45b0e435",
      "metadata": {
        "id": "45b0e435"
      },
      "source": [
        "### Your report\n",
        "* The total number of tweets collected in the file:\n",
        "* The content of the first tweet:\n",
        "* Is the first tweet contained any hashtags or mentions?\n",
        "* Collect all hashtags related to Thailand from this data\n",
        "* Find the most popular tweets in your collection of tweets, i.e. the tweets with the largest number of retweet/replies/likes counts\n",
        "    * You are free to define your own popularity metric\n",
        "* Display the top 5 tweets that are the most popular among your collection\n",
        "* Create a word cloud of words in the contents; however, we note that this word cloud is not a good representation of Thailand as the data size is small"
      ]
    },
    {
      "cell_type": "code",
      "execution_count": null,
      "id": "9b3dc416",
      "metadata": {
        "scrolled": true,
        "id": "9b3dc416"
      },
      "outputs": [],
      "source": [
        "# ----------------- Your code here -----------------\n",
        "\n"
      ]
    },
    {
      "cell_type": "markdown",
      "id": "c2cf90e5",
      "metadata": {
        "id": "c2cf90e5"
      },
      "source": [
        "Note: ไม่ต้องรายงานส่วนนี้ในสไลด์"
      ]
    },
    {
      "cell_type": "markdown",
      "id": "ccb8731c",
      "metadata": {
        "id": "ccb8731c"
      },
      "source": [
        "## Problem 2 Study Trip Advisor Hotel Reviews Sentiment"
      ]
    },
    {
      "cell_type": "markdown",
      "id": "9da6a800",
      "metadata": {
        "id": "9da6a800"
      },
      "source": [
        "We are working with the Trip Advisor Hotel Reviews dataset. You can see the source from https://www.kaggle.com/datasets/andrewmvd/trip-advisor-hotel-reviews."
      ]
    },
    {
      "cell_type": "markdown",
      "id": "19996e72",
      "metadata": {
        "id": "19996e72"
      },
      "source": [
        "* Analyze the data to find out what make a hotel good or bad\n",
        "<br>You may create a tag of \"positive\", \"negative\", or \"neural\" sentiment first. After tagging each tweet with different sentiment, we can separate positive tweets and negative tweets. Then, it is easier to find our common patterns in positive tweets or good hotels, and vice versa."
      ]
    },
    {
      "cell_type": "code",
      "source": [
        "from google.colab import drive\n",
        "drive.mount('/content/drive')"
      ],
      "metadata": {
        "id": "zk4FhNS0e1I-",
        "outputId": "5718533a-12fa-480f-a2d0-446029b1b1df",
        "colab": {
          "base_uri": "https://localhost:8080/"
        }
      },
      "id": "zk4FhNS0e1I-",
      "execution_count": 17,
      "outputs": [
        {
          "output_type": "stream",
          "name": "stdout",
          "text": [
            "Drive already mounted at /content/drive; to attempt to forcibly remount, call drive.mount(\"/content/drive\", force_remount=True).\n"
          ]
        }
      ]
    },
    {
      "cell_type": "code",
      "source": [
        "import pandas as pd\n",
        "\n",
        "# Read a CSV file into a DataFrame\n",
        "data = pd.read_csv('/content/drive/MyDrive/Project  Big Data Analytics 66/tripadvisor_hotel_reviews - tripadvisor_hotel_reviews.csv')\n"
      ],
      "metadata": {
        "id": "hzj90QLa0h87"
      },
      "id": "hzj90QLa0h87",
      "execution_count": 32,
      "outputs": []
    },
    {
      "cell_type": "code",
      "source": [
        "data"
      ],
      "metadata": {
        "id": "Pcrti22l1lX2",
        "outputId": "2cd9afad-918e-415b-add6-36edab36f0ac",
        "colab": {
          "base_uri": "https://localhost:8080/",
          "height": 423
        }
      },
      "id": "Pcrti22l1lX2",
      "execution_count": 33,
      "outputs": [
        {
          "output_type": "execute_result",
          "data": {
            "text/plain": [
              "                                                  Review  Rating\n",
              "0      nice hotel expensive parking got good deal sta...       4\n",
              "1      ok nothing special charge diamond member hilto...       2\n",
              "2      nice rooms not 4* experience hotel monaco seat...       3\n",
              "3      unique, great stay, wonderful time hotel monac...       5\n",
              "4      great stay great stay, went seahawk game aweso...       5\n",
              "...                                                  ...     ...\n",
              "20486  best kept secret 3rd time staying charm, not 5...       5\n",
              "20487  great location price view hotel great quick pl...       4\n",
              "20488  ok just looks nice modern outside, desk staff ...       2\n",
              "20489  hotel theft ruined vacation hotel opened sept ...       1\n",
              "20490  people talking, ca n't believe excellent ratin...       2\n",
              "\n",
              "[20491 rows x 2 columns]"
            ],
            "text/html": [
              "\n",
              "  <div id=\"df-f3362805-3266-4a0d-bdfe-8c8bd5365645\" class=\"colab-df-container\">\n",
              "    <div>\n",
              "<style scoped>\n",
              "    .dataframe tbody tr th:only-of-type {\n",
              "        vertical-align: middle;\n",
              "    }\n",
              "\n",
              "    .dataframe tbody tr th {\n",
              "        vertical-align: top;\n",
              "    }\n",
              "\n",
              "    .dataframe thead th {\n",
              "        text-align: right;\n",
              "    }\n",
              "</style>\n",
              "<table border=\"1\" class=\"dataframe\">\n",
              "  <thead>\n",
              "    <tr style=\"text-align: right;\">\n",
              "      <th></th>\n",
              "      <th>Review</th>\n",
              "      <th>Rating</th>\n",
              "    </tr>\n",
              "  </thead>\n",
              "  <tbody>\n",
              "    <tr>\n",
              "      <th>0</th>\n",
              "      <td>nice hotel expensive parking got good deal sta...</td>\n",
              "      <td>4</td>\n",
              "    </tr>\n",
              "    <tr>\n",
              "      <th>1</th>\n",
              "      <td>ok nothing special charge diamond member hilto...</td>\n",
              "      <td>2</td>\n",
              "    </tr>\n",
              "    <tr>\n",
              "      <th>2</th>\n",
              "      <td>nice rooms not 4* experience hotel monaco seat...</td>\n",
              "      <td>3</td>\n",
              "    </tr>\n",
              "    <tr>\n",
              "      <th>3</th>\n",
              "      <td>unique, great stay, wonderful time hotel monac...</td>\n",
              "      <td>5</td>\n",
              "    </tr>\n",
              "    <tr>\n",
              "      <th>4</th>\n",
              "      <td>great stay great stay, went seahawk game aweso...</td>\n",
              "      <td>5</td>\n",
              "    </tr>\n",
              "    <tr>\n",
              "      <th>...</th>\n",
              "      <td>...</td>\n",
              "      <td>...</td>\n",
              "    </tr>\n",
              "    <tr>\n",
              "      <th>20486</th>\n",
              "      <td>best kept secret 3rd time staying charm, not 5...</td>\n",
              "      <td>5</td>\n",
              "    </tr>\n",
              "    <tr>\n",
              "      <th>20487</th>\n",
              "      <td>great location price view hotel great quick pl...</td>\n",
              "      <td>4</td>\n",
              "    </tr>\n",
              "    <tr>\n",
              "      <th>20488</th>\n",
              "      <td>ok just looks nice modern outside, desk staff ...</td>\n",
              "      <td>2</td>\n",
              "    </tr>\n",
              "    <tr>\n",
              "      <th>20489</th>\n",
              "      <td>hotel theft ruined vacation hotel opened sept ...</td>\n",
              "      <td>1</td>\n",
              "    </tr>\n",
              "    <tr>\n",
              "      <th>20490</th>\n",
              "      <td>people talking, ca n't believe excellent ratin...</td>\n",
              "      <td>2</td>\n",
              "    </tr>\n",
              "  </tbody>\n",
              "</table>\n",
              "<p>20491 rows × 2 columns</p>\n",
              "</div>\n",
              "    <div class=\"colab-df-buttons\">\n",
              "\n",
              "  <div class=\"colab-df-container\">\n",
              "    <button class=\"colab-df-convert\" onclick=\"convertToInteractive('df-f3362805-3266-4a0d-bdfe-8c8bd5365645')\"\n",
              "            title=\"Convert this dataframe to an interactive table.\"\n",
              "            style=\"display:none;\">\n",
              "\n",
              "  <svg xmlns=\"http://www.w3.org/2000/svg\" height=\"24px\" viewBox=\"0 -960 960 960\">\n",
              "    <path d=\"M120-120v-720h720v720H120Zm60-500h600v-160H180v160Zm220 220h160v-160H400v160Zm0 220h160v-160H400v160ZM180-400h160v-160H180v160Zm440 0h160v-160H620v160ZM180-180h160v-160H180v160Zm440 0h160v-160H620v160Z\"/>\n",
              "  </svg>\n",
              "    </button>\n",
              "\n",
              "  <style>\n",
              "    .colab-df-container {\n",
              "      display:flex;\n",
              "      gap: 12px;\n",
              "    }\n",
              "\n",
              "    .colab-df-convert {\n",
              "      background-color: #E8F0FE;\n",
              "      border: none;\n",
              "      border-radius: 50%;\n",
              "      cursor: pointer;\n",
              "      display: none;\n",
              "      fill: #1967D2;\n",
              "      height: 32px;\n",
              "      padding: 0 0 0 0;\n",
              "      width: 32px;\n",
              "    }\n",
              "\n",
              "    .colab-df-convert:hover {\n",
              "      background-color: #E2EBFA;\n",
              "      box-shadow: 0px 1px 2px rgba(60, 64, 67, 0.3), 0px 1px 3px 1px rgba(60, 64, 67, 0.15);\n",
              "      fill: #174EA6;\n",
              "    }\n",
              "\n",
              "    .colab-df-buttons div {\n",
              "      margin-bottom: 4px;\n",
              "    }\n",
              "\n",
              "    [theme=dark] .colab-df-convert {\n",
              "      background-color: #3B4455;\n",
              "      fill: #D2E3FC;\n",
              "    }\n",
              "\n",
              "    [theme=dark] .colab-df-convert:hover {\n",
              "      background-color: #434B5C;\n",
              "      box-shadow: 0px 1px 3px 1px rgba(0, 0, 0, 0.15);\n",
              "      filter: drop-shadow(0px 1px 2px rgba(0, 0, 0, 0.3));\n",
              "      fill: #FFFFFF;\n",
              "    }\n",
              "  </style>\n",
              "\n",
              "    <script>\n",
              "      const buttonEl =\n",
              "        document.querySelector('#df-f3362805-3266-4a0d-bdfe-8c8bd5365645 button.colab-df-convert');\n",
              "      buttonEl.style.display =\n",
              "        google.colab.kernel.accessAllowed ? 'block' : 'none';\n",
              "\n",
              "      async function convertToInteractive(key) {\n",
              "        const element = document.querySelector('#df-f3362805-3266-4a0d-bdfe-8c8bd5365645');\n",
              "        const dataTable =\n",
              "          await google.colab.kernel.invokeFunction('convertToInteractive',\n",
              "                                                    [key], {});\n",
              "        if (!dataTable) return;\n",
              "\n",
              "        const docLinkHtml = 'Like what you see? Visit the ' +\n",
              "          '<a target=\"_blank\" href=https://colab.research.google.com/notebooks/data_table.ipynb>data table notebook</a>'\n",
              "          + ' to learn more about interactive tables.';\n",
              "        element.innerHTML = '';\n",
              "        dataTable['output_type'] = 'display_data';\n",
              "        await google.colab.output.renderOutput(dataTable, element);\n",
              "        const docLink = document.createElement('div');\n",
              "        docLink.innerHTML = docLinkHtml;\n",
              "        element.appendChild(docLink);\n",
              "      }\n",
              "    </script>\n",
              "  </div>\n",
              "\n",
              "\n",
              "<div id=\"df-81775df1-54f6-4ceb-b64b-24c53d26d6c1\">\n",
              "  <button class=\"colab-df-quickchart\" onclick=\"quickchart('df-81775df1-54f6-4ceb-b64b-24c53d26d6c1')\"\n",
              "            title=\"Suggest charts.\"\n",
              "            style=\"display:none;\">\n",
              "\n",
              "<svg xmlns=\"http://www.w3.org/2000/svg\" height=\"24px\"viewBox=\"0 0 24 24\"\n",
              "     width=\"24px\">\n",
              "    <g>\n",
              "        <path d=\"M19 3H5c-1.1 0-2 .9-2 2v14c0 1.1.9 2 2 2h14c1.1 0 2-.9 2-2V5c0-1.1-.9-2-2-2zM9 17H7v-7h2v7zm4 0h-2V7h2v10zm4 0h-2v-4h2v4z\"/>\n",
              "    </g>\n",
              "</svg>\n",
              "  </button>\n",
              "\n",
              "<style>\n",
              "  .colab-df-quickchart {\n",
              "      --bg-color: #E8F0FE;\n",
              "      --fill-color: #1967D2;\n",
              "      --hover-bg-color: #E2EBFA;\n",
              "      --hover-fill-color: #174EA6;\n",
              "      --disabled-fill-color: #AAA;\n",
              "      --disabled-bg-color: #DDD;\n",
              "  }\n",
              "\n",
              "  [theme=dark] .colab-df-quickchart {\n",
              "      --bg-color: #3B4455;\n",
              "      --fill-color: #D2E3FC;\n",
              "      --hover-bg-color: #434B5C;\n",
              "      --hover-fill-color: #FFFFFF;\n",
              "      --disabled-bg-color: #3B4455;\n",
              "      --disabled-fill-color: #666;\n",
              "  }\n",
              "\n",
              "  .colab-df-quickchart {\n",
              "    background-color: var(--bg-color);\n",
              "    border: none;\n",
              "    border-radius: 50%;\n",
              "    cursor: pointer;\n",
              "    display: none;\n",
              "    fill: var(--fill-color);\n",
              "    height: 32px;\n",
              "    padding: 0;\n",
              "    width: 32px;\n",
              "  }\n",
              "\n",
              "  .colab-df-quickchart:hover {\n",
              "    background-color: var(--hover-bg-color);\n",
              "    box-shadow: 0 1px 2px rgba(60, 64, 67, 0.3), 0 1px 3px 1px rgba(60, 64, 67, 0.15);\n",
              "    fill: var(--button-hover-fill-color);\n",
              "  }\n",
              "\n",
              "  .colab-df-quickchart-complete:disabled,\n",
              "  .colab-df-quickchart-complete:disabled:hover {\n",
              "    background-color: var(--disabled-bg-color);\n",
              "    fill: var(--disabled-fill-color);\n",
              "    box-shadow: none;\n",
              "  }\n",
              "\n",
              "  .colab-df-spinner {\n",
              "    border: 2px solid var(--fill-color);\n",
              "    border-color: transparent;\n",
              "    border-bottom-color: var(--fill-color);\n",
              "    animation:\n",
              "      spin 1s steps(1) infinite;\n",
              "  }\n",
              "\n",
              "  @keyframes spin {\n",
              "    0% {\n",
              "      border-color: transparent;\n",
              "      border-bottom-color: var(--fill-color);\n",
              "      border-left-color: var(--fill-color);\n",
              "    }\n",
              "    20% {\n",
              "      border-color: transparent;\n",
              "      border-left-color: var(--fill-color);\n",
              "      border-top-color: var(--fill-color);\n",
              "    }\n",
              "    30% {\n",
              "      border-color: transparent;\n",
              "      border-left-color: var(--fill-color);\n",
              "      border-top-color: var(--fill-color);\n",
              "      border-right-color: var(--fill-color);\n",
              "    }\n",
              "    40% {\n",
              "      border-color: transparent;\n",
              "      border-right-color: var(--fill-color);\n",
              "      border-top-color: var(--fill-color);\n",
              "    }\n",
              "    60% {\n",
              "      border-color: transparent;\n",
              "      border-right-color: var(--fill-color);\n",
              "    }\n",
              "    80% {\n",
              "      border-color: transparent;\n",
              "      border-right-color: var(--fill-color);\n",
              "      border-bottom-color: var(--fill-color);\n",
              "    }\n",
              "    90% {\n",
              "      border-color: transparent;\n",
              "      border-bottom-color: var(--fill-color);\n",
              "    }\n",
              "  }\n",
              "</style>\n",
              "\n",
              "  <script>\n",
              "    async function quickchart(key) {\n",
              "      const quickchartButtonEl =\n",
              "        document.querySelector('#' + key + ' button');\n",
              "      quickchartButtonEl.disabled = true;  // To prevent multiple clicks.\n",
              "      quickchartButtonEl.classList.add('colab-df-spinner');\n",
              "      try {\n",
              "        const charts = await google.colab.kernel.invokeFunction(\n",
              "            'suggestCharts', [key], {});\n",
              "      } catch (error) {\n",
              "        console.error('Error during call to suggestCharts:', error);\n",
              "      }\n",
              "      quickchartButtonEl.classList.remove('colab-df-spinner');\n",
              "      quickchartButtonEl.classList.add('colab-df-quickchart-complete');\n",
              "    }\n",
              "    (() => {\n",
              "      let quickchartButtonEl =\n",
              "        document.querySelector('#df-81775df1-54f6-4ceb-b64b-24c53d26d6c1 button');\n",
              "      quickchartButtonEl.style.display =\n",
              "        google.colab.kernel.accessAllowed ? 'block' : 'none';\n",
              "    })();\n",
              "  </script>\n",
              "</div>\n",
              "    </div>\n",
              "  </div>\n"
            ]
          },
          "metadata": {},
          "execution_count": 33
        }
      ]
    },
    {
      "cell_type": "code",
      "source": [
        "import pandas as pd\n",
        "from textblob import TextBlob\n",
        "\n",
        "# Sample hotel reviews dataset (replace with your own dataset)\n",
        "data = {\n",
        "    'Review': [\n",
        "        \"The hotel staff was friendly and helpful. Great experience!\",\n",
        "        \"The room was dirty and the service was terrible. Will not stay here again.\",\n",
        "        \"Decent hotel, nothing special.\",\n",
        "        \"Beautiful location and comfortable rooms. Highly recommended!\",\n",
        "    ]\n",
        "}\n",
        "\n",
        "# Create a DataFrame from the sample data\n",
        "df = pd.DataFrame(data)\n",
        "\n",
        "# Define a function to classify sentiment\n",
        "def classify_sentiment(text):\n",
        "    analysis = TextBlob(text)\n",
        "    if analysis.sentiment.polarity > 0:\n",
        "        return \"positive\"\n",
        "    elif analysis.sentiment.polarity < 0:\n",
        "        return \"negative\"\n",
        "    else:\n",
        "        return \"neutral\"\n",
        "\n",
        "# Apply sentiment classification to each review\n",
        "df['Sentiment'] = df['Review'].apply(classify_sentiment)\n",
        "\n",
        "# Print the DataFrame with sentiment labels\n",
        "print(df)\n",
        "\n",
        "# Analyze common factors contributing to positive and negative sentiments\n",
        "positive_reviews = df[df['Sentiment'] == 'positive']['Review']\n",
        "negative_reviews = df[df['Sentiment'] == 'negative']['Review']\n",
        "\n",
        "print(\"\\nCommon Factors in Positive Reviews:\")\n",
        "for review in positive_reviews:\n",
        "    print(review)\n",
        "\n",
        "print(\"\\nCommon Factors in Negative Reviews:\")\n",
        "for review in negative_reviews:\n",
        "    print(review)\n"
      ],
      "metadata": {
        "id": "ldrJ2xn218ba",
        "outputId": "a4914f79-527d-4dfb-9e99-338d4d4927a8",
        "colab": {
          "base_uri": "https://localhost:8080/"
        }
      },
      "id": "ldrJ2xn218ba",
      "execution_count": 37,
      "outputs": [
        {
          "output_type": "stream",
          "name": "stdout",
          "text": [
            "                                              Review Sentiment\n",
            "0  The hotel staff was friendly and helpful. Grea...  positive\n",
            "1  The room was dirty and the service was terribl...  negative\n",
            "2                     Decent hotel, nothing special.  positive\n",
            "3  Beautiful location and comfortable rooms. High...  positive\n",
            "\n",
            "Common Factors in Positive Reviews:\n",
            "The hotel staff was friendly and helpful. Great experience!\n",
            "Decent hotel, nothing special.\n",
            "Beautiful location and comfortable rooms. Highly recommended!\n",
            "\n",
            "Common Factors in Negative Reviews:\n",
            "The room was dirty and the service was terrible. Will not stay here again.\n"
          ]
        }
      ]
    },
    {
      "cell_type": "code",
      "source": [],
      "metadata": {
        "id": "7OElQSSRy7lR"
      },
      "id": "7OElQSSRy7lR",
      "execution_count": null,
      "outputs": []
    },
    {
      "cell_type": "markdown",
      "source": [
        "วิเคราะห์ข้อมูลเพื่อดูว่าอะไรทำให้โรงแรมดีหรือไม่ดี\n",
        "คุณสามารถสร้างแท็กความรู้สึก \"เชิงบวก\" \"เชิงลบ\" หรือ \"ปานกลาง\" ก่อนได้ หลังจากแท็กแต่ละทวีตด้วยความรู้สึกที่แตกต่างกัน เราสามารถแยกทวีตเชิงบวกและทวีตเชิงลบได้ จากนั้น จะง่ายกว่าที่จะค้นหารูปแบบทั่วไปของเราในทวีตเชิงบวกหรือโรงแรมดีๆ และในทางกลับกัน"
      ],
      "metadata": {
        "id": "B0Y4FhpUcXrw"
      },
      "id": "B0Y4FhpUcXrw"
    },
    {
      "cell_type": "markdown",
      "source": [
        "Your code starts here\n",
        "- ติดป้ายกำกับแต่ละทวีตว่าเป็นความรู้สึกเชิงบวก ลบ และประสาท\n",
        "- รวมข้อความทวีตในแต่ละประเภท\n",
        "- ข้อความโทเค็น\n",
        "- แปลงเป็นตัวพิมพ์เล็ก\n",
        "- ลบคำหยุด\n",
        "- ลบคำหยุดอื่นๆ เช่น RT\n",
        "- ลบเครื่องหมายวรรคตอน\n",
        "- ลบสัญลักษณ์อื่น ๆ ออก?\n",
        "- วิเคราะห์ความถี่ของคำในแต่ละประเภทความรู้สึก เป็นต้น\n",
        "- สร้างการแสดงภาพข้อมูลสำหรับการวิเคราะห์และการนำเสนอของคุณ"
      ],
      "metadata": {
        "id": "FY2kKB5Ycq_9"
      },
      "id": "FY2kKB5Ycq_9"
    },
    {
      "cell_type": "code",
      "execution_count": null,
      "id": "3a55e834",
      "metadata": {
        "id": "3a55e834"
      },
      "outputs": [],
      "source": [
        "#----------------------------------------------\n",
        "# Your code starts here\n",
        "# label each tweet as positive, negative, and neural sentiment\n",
        "# combine tweet texts in each type\n",
        "# tokenize texts\n",
        "# convert to lower case\n",
        "# remove stop words\n",
        "# remove any other stop words, like RT\n",
        "# remove punctuations\n",
        "# remove other symbols?\n",
        "# analyze word frequency in each sentiment type and so on\n",
        "# create some data visualization for the analysis and your presentation\n",
        "\n",
        "\n",
        "\n"
      ]
    },
    {
      "cell_type": "markdown",
      "source": [
        "# label each tweet as positive, negative, and neural sentiment"
      ],
      "metadata": {
        "id": "53G9aRUsg8Km"
      },
      "id": "53G9aRUsg8Km"
    },
    {
      "cell_type": "code",
      "source": [
        "pip install textblob\n"
      ],
      "metadata": {
        "id": "qgkTz4dqfdA1",
        "outputId": "b9847a35-fb36-4130-a3df-c9dad74281f0",
        "colab": {
          "base_uri": "https://localhost:8080/"
        }
      },
      "id": "qgkTz4dqfdA1",
      "execution_count": null,
      "outputs": [
        {
          "output_type": "stream",
          "name": "stdout",
          "text": [
            "Requirement already satisfied: textblob in /usr/local/lib/python3.10/dist-packages (0.17.1)\n",
            "Requirement already satisfied: nltk>=3.1 in /usr/local/lib/python3.10/dist-packages (from textblob) (3.8.1)\n",
            "Requirement already satisfied: click in /usr/local/lib/python3.10/dist-packages (from nltk>=3.1->textblob) (8.1.7)\n",
            "Requirement already satisfied: joblib in /usr/local/lib/python3.10/dist-packages (from nltk>=3.1->textblob) (1.3.2)\n",
            "Requirement already satisfied: regex>=2021.8.3 in /usr/local/lib/python3.10/dist-packages (from nltk>=3.1->textblob) (2023.6.3)\n",
            "Requirement already satisfied: tqdm in /usr/local/lib/python3.10/dist-packages (from nltk>=3.1->textblob) (4.66.1)\n"
          ]
        }
      ]
    },
    {
      "cell_type": "code",
      "source": [
        "from textblob import TextBlob\n"
      ],
      "metadata": {
        "id": "NrGoqSkLgB7w"
      },
      "id": "NrGoqSkLgB7w",
      "execution_count": null,
      "outputs": []
    },
    {
      "cell_type": "code",
      "source": [
        "def get_sentiment_label(tweet_text):\n",
        "    # Create a TextBlob object\n",
        "    analysis = TextBlob(tweet_text)\n",
        "\n",
        "    # Determine sentiment polarity (-1 to 1) and subjectivity (0 to 1)\n",
        "    sentiment_polarity = analysis.sentiment.polarity\n",
        "    sentiment_subjectivity = analysis.sentiment.subjectivity\n",
        "\n",
        "    # Define thresholds for sentiment labels\n",
        "    positive_threshold = 0.1\n",
        "    negative_threshold = -0.1\n",
        "\n",
        "    # Assign sentiment labels based on polarity\n",
        "    if sentiment_polarity > positive_threshold:\n",
        "        return \"Positive\"\n",
        "    elif sentiment_polarity < negative_threshold:\n",
        "        return \"Negative\"\n",
        "    else:\n",
        "        return \"Neutral\"\n"
      ],
      "metadata": {
        "id": "48oE9QKkgHXp"
      },
      "id": "48oE9QKkgHXp",
      "execution_count": null,
      "outputs": []
    },
    {
      "cell_type": "markdown",
      "source": [
        "#combine tweet texts in each type"
      ],
      "metadata": {
        "id": "yOG7tCDGhB0Y"
      },
      "id": "yOG7tCDGhB0Y"
    },
    {
      "cell_type": "code",
      "source": [
        "# Example tweets\n",
        "tweets = [\n",
        "    \"I love this product! It's amazing!\",\n",
        "    \"This is the worst customer service I've ever experienced.\",\n",
        "    \"Just had lunch. It was okay.\",\n",
        "]\n",
        "\n",
        "# Label each tweet\n",
        "for tweet in tweets:\n",
        "    sentiment_label = get_sentiment_label(tweet)\n",
        "    print(f\"Tweet: '{tweet}'\\nSentiment: {sentiment_label}\\n\")\n"
      ],
      "metadata": {
        "id": "GYoTVl3XgJu3",
        "outputId": "f250a9d5-cd64-47fd-ef14-ea9d8bb2d263",
        "colab": {
          "base_uri": "https://localhost:8080/"
        }
      },
      "id": "GYoTVl3XgJu3",
      "execution_count": null,
      "outputs": [
        {
          "output_type": "stream",
          "name": "stdout",
          "text": [
            "Tweet: 'I love this product! It's amazing!'\n",
            "Sentiment: Positive\n",
            "\n",
            "Tweet: 'This is the worst customer service I've ever experienced.'\n",
            "Sentiment: Neutral\n",
            "\n",
            "Tweet: 'Just had lunch. It was okay.'\n",
            "Sentiment: Positive\n",
            "\n"
          ]
        }
      ]
    },
    {
      "cell_type": "markdown",
      "source": [
        " # tokenize texts"
      ],
      "metadata": {
        "id": "LydMpQZRhJ3b"
      },
      "id": "LydMpQZRhJ3b"
    },
    {
      "cell_type": "code",
      "source": [
        "from textblob import TextBlob\n",
        "\n",
        "# Sample tweet texts\n",
        "tweets = [\n",
        "    \"I love this product! It's amazing!\",\n",
        "    \"This is the worst customer service I've ever experienced.\",\n",
        "    \"Just had lunch. It was okay.\",\n",
        "    \"I feel happy today.\",\n",
        "    \"I'm so frustrated with this traffic.\",\n",
        "    \"The weather is nice outside.\",\n",
        "    \"I'm feeling indifferent right now.\",\n",
        "]\n",
        "\n",
        "# Create empty lists for each sentiment\n",
        "positive_tweets = []\n",
        "negative_tweets = []\n",
        "neutral_tweets = []\n",
        "\n",
        "# Define a function to categorize tweets and append them to the appropriate list\n",
        "def categorize_tweets(tweet_texts):\n",
        "    for tweet_text in tweet_texts:\n",
        "        analysis = TextBlob(tweet_text)\n",
        "        sentiment_polarity = analysis.sentiment.polarity\n",
        "\n",
        "        if sentiment_polarity > 0.1:\n",
        "            positive_tweets.append(tweet_text)\n",
        "        elif sentiment_polarity < -0.1:\n",
        "            negative_tweets.append(tweet_text)\n",
        "        else:\n",
        "            neutral_tweets.append(tweet_text)\n",
        "\n",
        "# Categorize the tweets\n",
        "categorize_tweets(tweets)\n",
        "\n",
        "# Combine tweet texts for each sentiment\n",
        "combined_positive_tweets = '\\n'.join(positive_tweets)\n",
        "combined_negative_tweets = '\\n'.join(negative_tweets)\n",
        "combined_neutral_tweets = '\\n'.join(neutral_tweets)\n",
        "\n",
        "# Print the combined tweets for each sentiment\n",
        "print(\"Combined Positive Tweets:\")\n",
        "print(combined_positive_tweets)\n",
        "print(\"\\nCombined Negative Tweets:\")\n",
        "print(combined_negative_tweets)\n",
        "print(\"\\nCombined Neutral Tweets:\")\n",
        "print(combined_neutral_tweets)\n"
      ],
      "metadata": {
        "id": "xe6Vytcrg20N",
        "outputId": "20c2ac53-2823-423a-c19a-b42f1942fb61",
        "colab": {
          "base_uri": "https://localhost:8080/"
        }
      },
      "id": "xe6Vytcrg20N",
      "execution_count": null,
      "outputs": [
        {
          "output_type": "stream",
          "name": "stdout",
          "text": [
            "Combined Positive Tweets:\n",
            "I love this product! It's amazing!\n",
            "Just had lunch. It was okay.\n",
            "I feel happy today.\n",
            "The weather is nice outside.\n",
            "I'm feeling indifferent right now.\n",
            "\n",
            "Combined Negative Tweets:\n",
            "I'm so frustrated with this traffic.\n",
            "\n",
            "Combined Neutral Tweets:\n",
            "This is the worst customer service I've ever experienced.\n"
          ]
        }
      ]
    },
    {
      "cell_type": "markdown",
      "source": [
        " # convert to lower case"
      ],
      "metadata": {
        "id": "TtImSj06hY4A"
      },
      "id": "TtImSj06hY4A"
    },
    {
      "cell_type": "code",
      "source": [
        "from textblob import TextBlob\n",
        "\n",
        "# Sample tweet texts\n",
        "tweets = [\n",
        "    \"I love this product! It's amazing!\",\n",
        "    \"This is the worst customer service I've ever experienced.\",\n",
        "    \"Just had lunch. It was okay.\",\n",
        "    \"I feel happy today.\",\n",
        "    \"I'm so frustrated with this traffic.\",\n",
        "    \"The weather is nice outside.\",\n",
        "    \"I'm feeling indifferent right now.\",\n",
        "]\n",
        "\n",
        "# Create empty lists for each sentiment\n",
        "positive_tweets = []\n",
        "negative_tweets = []\n",
        "neutral_tweets = []\n",
        "\n",
        "# Define a function to categorize tweets and append them to the appropriate list\n",
        "def categorize_tweets(tweet_texts):\n",
        "    for tweet_text in tweet_texts:\n",
        "        analysis = TextBlob(tweet_text)\n",
        "        sentiment_polarity = analysis.sentiment.polarity\n",
        "\n",
        "        if sentiment_polarity > 0.1:\n",
        "            positive_tweets.append(tweet_text.lower())  # Convert to lowercase before appending\n",
        "        elif sentiment_polarity < -0.1:\n",
        "            negative_tweets.append(tweet_text.lower())  # Convert to lowercase before appending\n",
        "        else:\n",
        "            neutral_tweets.append(tweet_text.lower())   # Convert to lowercase before appending\n",
        "\n",
        "# Categorize the tweets\n",
        "categorize_tweets(tweets)\n",
        "\n",
        "# Combine tweet texts for each sentiment\n",
        "combined_positive_tweets = '\\n'.join(positive_tweets)\n",
        "combined_negative_tweets = '\\n'.join(negative_tweets)\n",
        "combined_neutral_tweets = '\\n'.join(neutral_tweets)\n",
        "\n",
        "# Print the combined tweets for each sentiment\n",
        "print(\"Combined Positive Tweets:\")\n",
        "print(combined_positive_tweets)\n",
        "print(\"\\nCombined Negative Tweets:\")\n",
        "print(combined_negative_tweets)\n",
        "print(\"\\nCombined Neutral Tweets:\")\n",
        "print(combined_neutral_tweets)\n"
      ],
      "metadata": {
        "id": "rALVegqQhYc5",
        "outputId": "bb971b55-595a-4038-9fab-0f71ee8e7c68",
        "colab": {
          "base_uri": "https://localhost:8080/"
        }
      },
      "id": "rALVegqQhYc5",
      "execution_count": null,
      "outputs": [
        {
          "output_type": "stream",
          "name": "stdout",
          "text": [
            "Combined Positive Tweets:\n",
            "i love this product! it's amazing!\n",
            "just had lunch. it was okay.\n",
            "i feel happy today.\n",
            "the weather is nice outside.\n",
            "i'm feeling indifferent right now.\n",
            "\n",
            "Combined Negative Tweets:\n",
            "i'm so frustrated with this traffic.\n",
            "\n",
            "Combined Neutral Tweets:\n",
            "this is the worst customer service i've ever experienced.\n"
          ]
        }
      ]
    },
    {
      "cell_type": "markdown",
      "source": [
        "# remove stop words"
      ],
      "metadata": {
        "id": "k-F1qN9FhwYl"
      },
      "id": "k-F1qN9FhwYl"
    },
    {
      "cell_type": "code",
      "source": [
        "pip install nltk\n"
      ],
      "metadata": {
        "id": "FrBHM4bjhvx8",
        "outputId": "b4fb8272-cf96-4771-c041-252a39495ad8",
        "colab": {
          "base_uri": "https://localhost:8080/"
        }
      },
      "id": "FrBHM4bjhvx8",
      "execution_count": null,
      "outputs": [
        {
          "output_type": "stream",
          "name": "stdout",
          "text": [
            "Requirement already satisfied: nltk in /usr/local/lib/python3.10/dist-packages (3.8.1)\n",
            "Requirement already satisfied: click in /usr/local/lib/python3.10/dist-packages (from nltk) (8.1.7)\n",
            "Requirement already satisfied: joblib in /usr/local/lib/python3.10/dist-packages (from nltk) (1.3.2)\n",
            "Requirement already satisfied: regex>=2021.8.3 in /usr/local/lib/python3.10/dist-packages (from nltk) (2023.6.3)\n",
            "Requirement already satisfied: tqdm in /usr/local/lib/python3.10/dist-packages (from nltk) (4.66.1)\n"
          ]
        }
      ]
    },
    {
      "cell_type": "code",
      "source": [
        "from textblob import TextBlob\n",
        "import nltk\n",
        "from nltk.corpus import stopwords\n",
        "\n",
        "# Download NLTK stopwords (if not already downloaded)\n",
        "nltk.download('stopwords')\n",
        "\n",
        "# Sample tweet texts\n",
        "tweets = [\n",
        "    \"I love this product! It's amazing!\",\n",
        "    \"This is the worst customer service I've ever experienced.\",\n",
        "    \"Just had lunch. It was okay.\",\n",
        "    \"I feel happy today.\",\n",
        "    \"I'm so frustrated with this traffic.\",\n",
        "    \"The weather is nice outside.\",\n",
        "    \"I'm feeling indifferent right now.\",\n",
        "]\n",
        "\n",
        "# Create a set of stopwords\n",
        "stop_words = set(stopwords.words('english'))\n",
        "\n",
        "# Create empty lists for each sentiment\n",
        "positive_tweets = []\n",
        "negative_tweets = []\n",
        "neutral_tweets = []\n",
        "\n",
        "# Define a function to categorize tweets, remove stop words, and append them to the appropriate list\n",
        "def categorize_tweets(tweet_texts):\n",
        "    for tweet_text in tweet_texts:\n",
        "        analysis = TextBlob(tweet_text)\n",
        "        sentiment_polarity = analysis.sentiment.polarity\n",
        "        tweet_words = tweet_text.lower().split()  # Convert to lowercase and split into words\n",
        "\n",
        "        # Remove stop words\n",
        "        tweet_words = [word for word in tweet_words if word not in stop_words]\n",
        "        tweet_text_cleaned = ' '.join(tweet_words)\n",
        "\n",
        "        if sentiment_polarity > 0.1:\n",
        "            positive_tweets.append(tweet_text_cleaned)\n",
        "        elif sentiment_polarity < -0.1:\n",
        "            negative_tweets.append(tweet_text_cleaned)\n",
        "        else:\n",
        "            neutral_tweets.append(tweet_text_cleaned)\n",
        "\n",
        "# Categorize the tweets and remove stop words\n",
        "categorize_tweets(tweets)\n",
        "\n",
        "# Combine tweet texts for each sentiment\n",
        "combined_positive_tweets = '\\n'.join(positive_tweets)\n",
        "combined_negative_tweets = '\\n'.join(negative_tweets)\n",
        "combined_neutral_tweets = '\\n'.join(neutral_tweets)\n",
        "\n",
        "# Print the combined tweets for each sentiment\n",
        "print(\"Combined Positive Tweets (Stopwords removed):\")\n",
        "print(combined_positive_tweets)\n",
        "print(\"\\nCombined Negative Tweets (Stopwords removed):\")\n",
        "print(combined_negative_tweets)\n",
        "print(\"\\nCombined Neutral Tweets (Stopwords removed):\")\n",
        "print(combined_neutral_tweets)\n"
      ],
      "metadata": {
        "id": "erhc5PDXiAM1",
        "outputId": "c616ab9d-bf10-4575-808d-a2bd7f3382ef",
        "colab": {
          "base_uri": "https://localhost:8080/"
        }
      },
      "id": "erhc5PDXiAM1",
      "execution_count": null,
      "outputs": [
        {
          "output_type": "stream",
          "name": "stdout",
          "text": [
            "Combined Positive Tweets (Stopwords removed):\n",
            "love product! amazing!\n",
            "lunch. okay.\n",
            "feel happy today.\n",
            "weather nice outside.\n",
            "i'm feeling indifferent right now.\n",
            "\n",
            "Combined Negative Tweets (Stopwords removed):\n",
            "i'm frustrated traffic.\n",
            "\n",
            "Combined Neutral Tweets (Stopwords removed):\n",
            "worst customer service i've ever experienced.\n"
          ]
        },
        {
          "output_type": "stream",
          "name": "stderr",
          "text": [
            "[nltk_data] Downloading package stopwords to /root/nltk_data...\n",
            "[nltk_data]   Package stopwords is already up-to-date!\n"
          ]
        }
      ]
    },
    {
      "cell_type": "markdown",
      "source": [],
      "metadata": {
        "id": "YVAoemEaiExN"
      },
      "id": "YVAoemEaiExN"
    },
    {
      "cell_type": "code",
      "source": [
        "from textblob import TextBlob\n",
        "import nltk\n",
        "from nltk.corpus import stopwords\n",
        "\n",
        "# Download NLTK stopwords (if not already downloaded)\n",
        "nltk.download('stopwords')\n",
        "\n",
        "# Sample tweet texts\n",
        "tweets = [\n",
        "    \"I love this product! It's amazing!\",\n",
        "    \"This is the worst customer service I've ever experienced.\",\n",
        "    \"Just had lunch. It was okay.\",\n",
        "    \"I feel happy today.\",\n",
        "    \"I'm so frustrated with this traffic.\",\n",
        "    \"The weather is nice outside.\",\n",
        "    \"I'm feeling indifferent right now.\",\n",
        "    \"RT @username: Check out this article!\",\n",
        "]\n",
        "\n",
        "# Create a set of stopwords, including custom stop words\n",
        "stop_words = set(stopwords.words('english'))\n",
        "custom_stop_words = set([\"rt\", \"username\"])  # Add custom stop words here\n",
        "\n",
        "# Combine the two sets of stop words\n",
        "stop_words.update(custom_stop_words)\n",
        "\n",
        "# Create empty lists for each sentiment\n",
        "positive_tweets = []\n",
        "negative_tweets = []\n",
        "neutral_tweets = []\n",
        "\n",
        "# Define a function to categorize tweets, remove stop words, and append them to the appropriate list\n",
        "def categorize_tweets(tweet_texts):\n",
        "    for tweet_text in tweet_texts:\n",
        "        analysis = TextBlob(tweet_text)\n",
        "        sentiment_polarity = analysis.sentiment.polarity\n",
        "        tweet_words = tweet_text.lower().split()  # Convert to lowercase and split into words\n",
        "\n",
        "        # Remove stop words\n",
        "        tweet_words = [word for word in tweet_words if word not in stop_words]\n",
        "        tweet_text_cleaned = ' '.join(tweet_words)\n",
        "\n",
        "        if sentiment_polarity > 0.1:\n",
        "            positive_tweets.append(tweet_text_cleaned)\n",
        "        elif sentiment_polarity < -0.1:\n",
        "            negative_tweets.append(tweet_text_cleaned)\n",
        "        else:\n",
        "            neutral_tweets.append(tweet_text_cleaned)\n",
        "\n",
        "# Categorize the tweets and remove stop words\n",
        "categorize_tweets(tweets)\n",
        "\n",
        "# Combine tweet texts for each sentiment\n",
        "combined_positive_tweets = '\\n'.join(positive_tweets)\n",
        "combined_negative_tweets = '\\n'.join(negative_tweets)\n",
        "combined_neutral_tweets = '\\n'.join(neutral_tweets)\n",
        "\n",
        "# Print the combined tweets for each sentiment\n",
        "print(\"Combined Positive Tweets (Stopwords removed):\")\n",
        "print(combined_positive_tweets)\n",
        "print(\"\\nCombined Negative Tweets (Stopwords removed):\")\n",
        "print(combined_negative_tweets)\n",
        "print(\"\\nCombined Neutral Tweets (Stopwords removed):\")\n",
        "print(combined_neutral_tweets)\n"
      ],
      "metadata": {
        "id": "MU71417HiSWQ"
      },
      "id": "MU71417HiSWQ",
      "execution_count": null,
      "outputs": []
    },
    {
      "cell_type": "markdown",
      "id": "0b4cf7eb",
      "metadata": {
        "id": "0b4cf7eb"
      },
      "source": [
        "### Report\n",
        "* How did you analyze the data?\n",
        "* What did you find in the data? (please include figures or tables in the report, but no source code)"
      ]
    },
    {
      "cell_type": "markdown",
      "id": "38795f4f",
      "metadata": {
        "id": "38795f4f"
      },
      "source": [
        "## Problem 3 Collect and Analyze Your Interesting Topic"
      ]
    },
    {
      "cell_type": "markdown",
      "id": "9d03d587",
      "metadata": {
        "id": "9d03d587"
      },
      "source": [
        "* Select a topic that your group members are interested\n",
        "* Gather url from at least 3 webpages\n",
        "* Use urllib.request to retrieve data from webpage\n",
        "* Clean and find intersting patterns and information\n",
        "* Create a word cloud of your topic"
      ]
    },
    {
      "cell_type": "code",
      "execution_count": null,
      "id": "667c35f5",
      "metadata": {
        "id": "667c35f5"
      },
      "outputs": [],
      "source": [
        "#----------------------------------------------\n",
        "# Your code starts here\n",
        "\n",
        "\n"
      ]
    },
    {
      "cell_type": "markdown",
      "id": "40357580",
      "metadata": {
        "id": "40357580"
      },
      "source": [
        "### Report\n",
        "* What did you find out about your topic? (please include figures or tables in the report, but no source code)"
      ]
    },
    {
      "cell_type": "markdown",
      "id": "8a13de1d",
      "metadata": {
        "id": "8a13de1d"
      },
      "source": [
        "# ☃️ The End of Project 1 ☃️"
      ]
    }
  ],
  "metadata": {
    "kernelspec": {
      "display_name": "Python 3 (ipykernel)",
      "language": "python",
      "name": "python3"
    },
    "language_info": {
      "codemirror_mode": {
        "name": "ipython",
        "version": 3
      },
      "file_extension": ".py",
      "mimetype": "text/x-python",
      "name": "python",
      "nbconvert_exporter": "python",
      "pygments_lexer": "ipython3",
      "version": "3.8.8"
    },
    "colab": {
      "provenance": [],
      "include_colab_link": true
    }
  },
  "nbformat": 4,
  "nbformat_minor": 5
}